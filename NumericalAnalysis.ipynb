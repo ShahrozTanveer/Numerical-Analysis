{
  "nbformat": 4,
  "nbformat_minor": 0,
  "metadata": {
    "colab": {
      "name": "NumericalAnalysis.ipynb",
      "provenance": [],
      "collapsed_sections": [],
      "authorship_tag": "ABX9TyPOjt9w/hlnc/uDcpSclb59",
      "include_colab_link": true
    },
    "kernelspec": {
      "name": "python3",
      "display_name": "Python 3"
    }
  },
  "cells": [
    {
      "cell_type": "markdown",
      "metadata": {
        "id": "view-in-github",
        "colab_type": "text"
      },
      "source": [
        "<a href=\"https://colab.research.google.com/github/ShahrozTanveer/Numerical-Analysis/blob/main/NumericalAnalysis.ipynb\" target=\"_parent\"><img src=\"https://colab.research.google.com/assets/colab-badge.svg\" alt=\"Open In Colab\"/></a>"
      ]
    },
    {
      "cell_type": "code",
      "metadata": {
        "id": "aP9SVSDyJaqc"
      },
      "source": [
        "import numpy as np\n",
        "import matplotlib.pyplot as plt \n",
        "import math "
      ],
      "execution_count": 1,
      "outputs": []
    },
    {
      "cell_type": "markdown",
      "metadata": {
        "id": "IDtyGtnc5iOb"
      },
      "source": [
        "## Bisection Method\n"
      ]
    },
    {
      "cell_type": "markdown",
      "metadata": {
        "id": "qsxJ0MdrBDI_"
      },
      "source": [
        "![image.png](data:image/png;base64,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)"
      ]
    },
    {
      "cell_type": "code",
      "metadata": {
        "id": "VfSq3qrr5Qxn"
      },
      "source": [
        "fn= lambda x: math.log(x, 3) + math.exp(x) -37#change eq according to your function"
      ],
      "execution_count": 2,
      "outputs": []
    },
    {
      "cell_type": "code",
      "metadata": {
        "id": "ORuQYsngUMBU"
      },
      "source": [
        "def bisection_method(f,a,b,err=0.0005):\n",
        "  fa = f(a)\n",
        "  fb = f(b)\n",
        "  x= np.linspace(a,b,100)\n",
        "  y= [f(i) for i in x]\n",
        "  plt.plot(x, y)\n",
        "  if fa*fb > 0:# it means both have same signs\n",
        "    print('it should have diffrent signs')\n",
        "    return None\n",
        "  c = (a+b)/2\n",
        "  fc = f(c)\n",
        "  while abs(a-b) >= err:\n",
        "    c = (a+b)/2\n",
        "    fc = f(c)\n",
        "    plt.plot(c, fc, '-gD')\n",
        "    print(\"a: {} b: {} c: {}\".format(a,b,c))\n",
        "    if fc > 0:\n",
        "      b,fb = c,fc\n",
        "    if fc < 0:\n",
        "      a,fa = c,fc\n",
        "  print('root is {}'.format(c))\n",
        "  plt.plot(c, fc, \"-o\")\n",
        "  plt.grid()\n",
        "  plt.show()  "
      ],
      "execution_count": 3,
      "outputs": []
    },
    {
      "cell_type": "code",
      "metadata": {
        "colab": {
          "base_uri": "https://localhost:8080/",
          "height": 470
        },
        "id": "0O3yMS3WYPwk",
        "outputId": "fa54bba7-d3c8-4530-de46-1b65efe63ac5"
      },
      "source": [
        "bisection_method(fn,3,4) #provide value of a and b"
      ],
      "execution_count": 4,
      "outputs": [
        {
          "output_type": "stream",
          "text": [
            "a: 3 b: 4 c: 3.5\n",
            "a: 3.5 b: 4 c: 3.75\n",
            "a: 3.5 b: 3.75 c: 3.625\n",
            "a: 3.5 b: 3.625 c: 3.5625\n",
            "a: 3.5625 b: 3.625 c: 3.59375\n",
            "a: 3.5625 b: 3.59375 c: 3.578125\n",
            "a: 3.578125 b: 3.59375 c: 3.5859375\n",
            "a: 3.578125 b: 3.5859375 c: 3.58203125\n",
            "a: 3.578125 b: 3.58203125 c: 3.580078125\n",
            "a: 3.578125 b: 3.580078125 c: 3.5791015625\n",
            "a: 3.578125 b: 3.5791015625 c: 3.57861328125\n",
            "root is 3.57861328125\n"
          ],
          "name": "stdout"
        },
        {
          "output_type": "display_data",
          "data": {
            "image/png": "[encoded data removed]",
            "text/plain": [
              "<Figure size 432x288 with 1 Axes>"
            ]
          },
          "metadata": {
            "tags": [],
            "needs_background": "light"
          }
        }
      ]
    },
    {
      "cell_type": "code",
      "metadata": {
        "id": "TPhl6_fi1zqd"
      },
      "source": [
        ""
      ],
      "execution_count": null,
      "outputs": []
    },
    {
      "cell_type": "code",
      "metadata": {
        "id": "YgcxEQkK1ztK"
      },
      "source": [
        ""
      ],
      "execution_count": null,
      "outputs": []
    }
  ]
}